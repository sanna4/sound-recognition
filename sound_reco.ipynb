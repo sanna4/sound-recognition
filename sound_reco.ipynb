{
  "cells": [
    {
      "cell_type": "markdown",
      "metadata": {
        "id": "mBiynDwduKBu"
      },
      "source": [
        "# Instrument Recognition con CNN"
      ]
    },
    {
      "cell_type": "markdown",
      "metadata": {
        "id": "ASrAw78WuKB0"
      },
      "source": [
        "## Fase 1: Strumenti necessari"
      ]
    },
    {
      "cell_type": "code",
      "execution_count": null,
      "metadata": {
        "colab": {
          "base_uri": "https://localhost:8080/"
        },
        "id": "7IaYPvi0j2GB",
        "outputId": "847d8d89-5a46-45d2-b343-bf7a9d5686a5"
      },
      "outputs": [
        {
          "output_type": "stream",
          "name": "stdout",
          "text": [
            "Collecting python_speech_features\n",
            "  Downloading python_speech_features-0.6.tar.gz (5.6 kB)\n",
            "Building wheels for collected packages: python-speech-features\n",
            "  Building wheel for python-speech-features (setup.py) ... \u001b[?25l\u001b[?25hdone\n",
            "  Created wheel for python-speech-features: filename=python_speech_features-0.6-py3-none-any.whl size=5888 sha256=c167fc6395a2de0dde7f37d12ce82c8429ef9460a202d57b4471a59cd2b22cb4\n",
            "  Stored in directory: /root/.cache/pip/wheels/b0/0e/94/28cd6afa3cd5998a63eef99fe31777acd7d758f59cf24839eb\n",
            "Successfully built python-speech-features\n",
            "Installing collected packages: python-speech-features\n",
            "Successfully installed python-speech-features-0.6\n"
          ]
        }
      ],
      "source": [
        "pip install python_speech_features"
      ]
    },
    {
      "cell_type": "code",
      "execution_count": null,
      "metadata": {
        "id": "TS3j0cB0uKB1"
      },
      "outputs": [],
      "source": [
        "import os\n",
        "import numpy as np\n",
        "import librosa\n",
        "from librosa import feature\n",
        "import matplotlib.pyplot as plt\n",
        "import seaborn as sns\n",
        "import pandas as pd\n",
        "from tqdm import tqdm\n",
        "from python_speech_features import mfcc\n",
        "from sklearn.preprocessing import LabelEncoder, OneHotEncoder\n",
        "from sklearn.model_selection import train_test_split\n",
        "from sklearn.metrics import confusion_matrix\n",
        "\n",
        "from keras.layers import Conv2D, MaxPool2D, Flatten, Dense, Dropout\n",
        "from keras.models import Sequential\n",
        "\n",
        "%matplotlib inline"
      ]
    },
    {
      "cell_type": "code",
      "source": [
        "!nvidia-smi"
      ],
      "metadata": {
        "colab": {
          "base_uri": "https://localhost:8080/"
        },
        "id": "kfu-Zcn7qyS6",
        "outputId": "82ba5376-e36d-4c40-cd57-ffb6d15bd97f"
      },
      "execution_count": null,
      "outputs": [
        {
          "output_type": "stream",
          "name": "stdout",
          "text": [
            "Thu Jan 13 15:29:43 2022       \n",
            "+-----------------------------------------------------------------------------+\n",
            "| NVIDIA-SMI 495.46       Driver Version: 460.32.03    CUDA Version: 11.2     |\n",
            "|-------------------------------+----------------------+----------------------+\n",
            "| GPU  Name        Persistence-M| Bus-Id        Disp.A | Volatile Uncorr. ECC |\n",
            "| Fan  Temp  Perf  Pwr:Usage/Cap|         Memory-Usage | GPU-Util  Compute M. |\n",
            "|                               |                      |               MIG M. |\n",
            "|===============================+======================+======================|\n",
            "|   0  Tesla T4            Off  | 00000000:00:04.0 Off |                    0 |\n",
            "| N/A   66C    P8    11W /  70W |      0MiB / 15109MiB |      0%      Default |\n",
            "|                               |                      |                  N/A |\n",
            "+-------------------------------+----------------------+----------------------+\n",
            "                                                                               \n",
            "+-----------------------------------------------------------------------------+\n",
            "| Processes:                                                                  |\n",
            "|  GPU   GI   CI        PID   Type   Process name                  GPU Memory |\n",
            "|        ID   ID                                                   Usage      |\n",
            "|=============================================================================|\n",
            "|  No running processes found                                                 |\n",
            "+-----------------------------------------------------------------------------+\n"
          ]
        }
      ]
    },
    {
      "cell_type": "markdown",
      "metadata": {
        "id": "rTydK_SQuKB4"
      },
      "source": [
        "## Fase 2: Importazione del dataset"
      ]
    },
    {
      "cell_type": "code",
      "execution_count": null,
      "metadata": {
        "id": "B3EG0h7-YCQA",
        "colab": {
          "base_uri": "https://localhost:8080/"
        },
        "outputId": "5d064ecc-70c2-4c09-b001-2541789424ce"
      },
      "outputs": [
        {
          "output_type": "stream",
          "name": "stdout",
          "text": [
            "Mounted at /content/gdrive\n"
          ]
        }
      ],
      "source": [
        "from google.colab import drive\n",
        "drive.mount(\"/content/gdrive\")\n",
        "data = \"/content/gdrive/MyDrive/Progetto_Principi/\""
      ]
    },
    {
      "cell_type": "code",
      "execution_count": null,
      "metadata": {
        "id": "zytKwXRruKB5",
        "colab": {
          "base_uri": "https://localhost:8080/",
          "height": 206
        },
        "outputId": "b7036f32-781d-4543-c298-046005702176"
      },
      "outputs": [
        {
          "output_type": "execute_result",
          "data": {
            "text/html": [
              "\n",
              "  <div id=\"df-b34f1aab-d683-49c8-b87f-a99308430bae\">\n",
              "    <div class=\"colab-df-container\">\n",
              "      <div>\n",
              "<style scoped>\n",
              "    .dataframe tbody tr th:only-of-type {\n",
              "        vertical-align: middle;\n",
              "    }\n",
              "\n",
              "    .dataframe tbody tr th {\n",
              "        vertical-align: top;\n",
              "    }\n",
              "\n",
              "    .dataframe thead th {\n",
              "        text-align: right;\n",
              "    }\n",
              "</style>\n",
              "<table border=\"1\" class=\"dataframe\">\n",
              "  <thead>\n",
              "    <tr style=\"text-align: right;\">\n",
              "      <th></th>\n",
              "      <th>fname</th>\n",
              "      <th>label</th>\n",
              "      <th>manually_verified</th>\n",
              "    </tr>\n",
              "  </thead>\n",
              "  <tbody>\n",
              "    <tr>\n",
              "      <th>0</th>\n",
              "      <td>00044347.wav</td>\n",
              "      <td>Hi-hat</td>\n",
              "      <td>0</td>\n",
              "    </tr>\n",
              "    <tr>\n",
              "      <th>1</th>\n",
              "      <td>001ca53d.wav</td>\n",
              "      <td>Saxophone</td>\n",
              "      <td>1</td>\n",
              "    </tr>\n",
              "    <tr>\n",
              "      <th>2</th>\n",
              "      <td>002d256b.wav</td>\n",
              "      <td>Trumpet</td>\n",
              "      <td>0</td>\n",
              "    </tr>\n",
              "    <tr>\n",
              "      <th>3</th>\n",
              "      <td>0033e230.wav</td>\n",
              "      <td>Glockenspiel</td>\n",
              "      <td>1</td>\n",
              "    </tr>\n",
              "    <tr>\n",
              "      <th>4</th>\n",
              "      <td>00353774.wav</td>\n",
              "      <td>Cello</td>\n",
              "      <td>1</td>\n",
              "    </tr>\n",
              "  </tbody>\n",
              "</table>\n",
              "</div>\n",
              "      <button class=\"colab-df-convert\" onclick=\"convertToInteractive('df-b34f1aab-d683-49c8-b87f-a99308430bae')\"\n",
              "              title=\"Convert this dataframe to an interactive table.\"\n",
              "              style=\"display:none;\">\n",
              "        \n",
              "  <svg xmlns=\"http://www.w3.org/2000/svg\" height=\"24px\"viewBox=\"0 0 24 24\"\n",
              "       width=\"24px\">\n",
              "    <path d=\"M0 0h24v24H0V0z\" fill=\"none\"/>\n",
              "    <path d=\"M18.56 5.44l.94 2.06.94-2.06 2.06-.94-2.06-.94-.94-2.06-.94 2.06-2.06.94zm-11 1L8.5 8.5l.94-2.06 2.06-.94-2.06-.94L8.5 2.5l-.94 2.06-2.06.94zm10 10l.94 2.06.94-2.06 2.06-.94-2.06-.94-.94-2.06-.94 2.06-2.06.94z\"/><path d=\"M17.41 7.96l-1.37-1.37c-.4-.4-.92-.59-1.43-.59-.52 0-1.04.2-1.43.59L10.3 9.45l-7.72 7.72c-.78.78-.78 2.05 0 2.83L4 21.41c.39.39.9.59 1.41.59.51 0 1.02-.2 1.41-.59l7.78-7.78 2.81-2.81c.8-.78.8-2.07 0-2.86zM5.41 20L4 18.59l7.72-7.72 1.47 1.35L5.41 20z\"/>\n",
              "  </svg>\n",
              "      </button>\n",
              "      \n",
              "  <style>\n",
              "    .colab-df-container {\n",
              "      display:flex;\n",
              "      flex-wrap:wrap;\n",
              "      gap: 12px;\n",
              "    }\n",
              "\n",
              "    .colab-df-convert {\n",
              "      background-color: #E8F0FE;\n",
              "      border: none;\n",
              "      border-radius: 50%;\n",
              "      cursor: pointer;\n",
              "      display: none;\n",
              "      fill: #1967D2;\n",
              "      height: 32px;\n",
              "      padding: 0 0 0 0;\n",
              "      width: 32px;\n",
              "    }\n",
              "\n",
              "    .colab-df-convert:hover {\n",
              "      background-color: #E2EBFA;\n",
              "      box-shadow: 0px 1px 2px rgba(60, 64, 67, 0.3), 0px 1px 3px 1px rgba(60, 64, 67, 0.15);\n",
              "      fill: #174EA6;\n",
              "    }\n",
              "\n",
              "    [theme=dark] .colab-df-convert {\n",
              "      background-color: #3B4455;\n",
              "      fill: #D2E3FC;\n",
              "    }\n",
              "\n",
              "    [theme=dark] .colab-df-convert:hover {\n",
              "      background-color: #434B5C;\n",
              "      box-shadow: 0px 1px 3px 1px rgba(0, 0, 0, 0.15);\n",
              "      filter: drop-shadow(0px 1px 2px rgba(0, 0, 0, 0.3));\n",
              "      fill: #FFFFFF;\n",
              "    }\n",
              "  </style>\n",
              "\n",
              "      <script>\n",
              "        const buttonEl =\n",
              "          document.querySelector('#df-b34f1aab-d683-49c8-b87f-a99308430bae button.colab-df-convert');\n",
              "        buttonEl.style.display =\n",
              "          google.colab.kernel.accessAllowed ? 'block' : 'none';\n",
              "\n",
              "        async function convertToInteractive(key) {\n",
              "          const element = document.querySelector('#df-b34f1aab-d683-49c8-b87f-a99308430bae');\n",
              "          const dataTable =\n",
              "            await google.colab.kernel.invokeFunction('convertToInteractive',\n",
              "                                                     [key], {});\n",
              "          if (!dataTable) return;\n",
              "\n",
              "          const docLinkHtml = 'Like what you see? Visit the ' +\n",
              "            '<a target=\"_blank\" href=https://colab.research.google.com/notebooks/data_table.ipynb>data table notebook</a>'\n",
              "            + ' to learn more about interactive tables.';\n",
              "          element.innerHTML = '';\n",
              "          dataTable['output_type'] = 'display_data';\n",
              "          await google.colab.output.renderOutput(dataTable, element);\n",
              "          const docLink = document.createElement('div');\n",
              "          docLink.innerHTML = docLinkHtml;\n",
              "          element.appendChild(docLink);\n",
              "        }\n",
              "      </script>\n",
              "    </div>\n",
              "  </div>\n",
              "  "
            ],
            "text/plain": [
              "          fname         label  manually_verified\n",
              "0  00044347.wav        Hi-hat                  0\n",
              "1  001ca53d.wav     Saxophone                  1\n",
              "2  002d256b.wav       Trumpet                  0\n",
              "3  0033e230.wav  Glockenspiel                  1\n",
              "4  00353774.wav         Cello                  1"
            ]
          },
          "metadata": {},
          "execution_count": 5
        }
      ],
      "source": [
        "data_frame = pd.read_csv(data + 'train.csv')\n",
        "data_frame.head()"
      ]
    },
    {
      "cell_type": "markdown",
      "metadata": {
        "id": "s2tHfntmuKB6"
      },
      "source": [
        "Essendo il numero di classi all'interno del dataset piuttosto alto (41), ne sceglieremo un numero minore tra quelle disponibili (5, ossia 'Cello',   'Saxophone', 'Acoustic_guitar', 'Double_bass', 'Clarinet'), scartando dunque il resto del dataset. Per fare questo:"
      ]
    },
    {
      "cell_type": "code",
      "execution_count": null,
      "metadata": {
        "id": "skKMxV_auKB7"
      },
      "outputs": [],
      "source": [
        "instruments = ['Cello','Saxophone','Acoustic_guitar','Double_bass', 'Clarinet']\n",
        "data_frame = data_frame[data_frame['label'].isin(instruments)]"
      ]
    },
    {
      "cell_type": "markdown",
      "metadata": {
        "id": "E9-_UqqJuKB8"
      },
      "source": [
        "Il codice qui sopra non fa altro che prendere tutte le n-uple all'interno del dataset per cui il valore della colonna label è uno di quelli indicati all'interno della lista delle etichette che abbiamo deciso di selezionare. Con il codice qui sotto, invece, riusciamo a controllare come il numero di dati relativi alle classi (strumenti) che abbiamo selezionato sono piuttosto omogenei"
      ]
    },
    {
      "cell_type": "code",
      "execution_count": null,
      "metadata": {
        "id": "hEaymTpZuKB-",
        "colab": {
          "base_uri": "https://localhost:8080/"
        },
        "outputId": "95e48420-3615-410a-af42-6e111f13d6e9"
      },
      "outputs": [
        {
          "output_type": "stream",
          "name": "stdout",
          "text": [
            "Cello --> (300, 3)\n",
            "Saxophone --> (300, 3)\n",
            "Acoustic_guitar --> (300, 3)\n",
            "Double_bass --> (300, 3)\n",
            "Clarinet --> (300, 3)\n"
          ]
        }
      ],
      "source": [
        "for i in instruments:\n",
        "  print(i + ' --> ' + str(data_frame[data_frame['label'] == i].shape))"
      ]
    },
    {
      "cell_type": "code",
      "execution_count": null,
      "metadata": {
        "id": "R2cpdj9xuKB_",
        "colab": {
          "base_uri": "https://localhost:8080/",
          "height": 223
        },
        "outputId": "019fd17e-9edb-40a0-ad12-8634ff960631"
      },
      "outputs": [
        {
          "output_type": "stream",
          "name": "stderr",
          "text": [
            "100%|██████████| 1500/1500 [18:57<00:00,  1.32it/s]\n"
          ]
        },
        {
          "output_type": "execute_result",
          "data": {
            "text/html": [
              "\n",
              "  <div id=\"df-654663d0-c066-4dd8-b2c8-05bf121fc504\">\n",
              "    <div class=\"colab-df-container\">\n",
              "      <div>\n",
              "<style scoped>\n",
              "    .dataframe tbody tr th:only-of-type {\n",
              "        vertical-align: middle;\n",
              "    }\n",
              "\n",
              "    .dataframe tbody tr th {\n",
              "        vertical-align: top;\n",
              "    }\n",
              "\n",
              "    .dataframe thead th {\n",
              "        text-align: right;\n",
              "    }\n",
              "</style>\n",
              "<table border=\"1\" class=\"dataframe\">\n",
              "  <thead>\n",
              "    <tr style=\"text-align: right;\">\n",
              "      <th></th>\n",
              "      <th>fname</th>\n",
              "      <th>label</th>\n",
              "      <th>manually_verified</th>\n",
              "    </tr>\n",
              "  </thead>\n",
              "  <tbody>\n",
              "    <tr>\n",
              "      <th>1</th>\n",
              "      <td>001ca53d.wav</td>\n",
              "      <td>Saxophone</td>\n",
              "      <td>1</td>\n",
              "    </tr>\n",
              "    <tr>\n",
              "      <th>4</th>\n",
              "      <td>00353774.wav</td>\n",
              "      <td>Cello</td>\n",
              "      <td>1</td>\n",
              "    </tr>\n",
              "    <tr>\n",
              "      <th>5</th>\n",
              "      <td>003b91e8.wav</td>\n",
              "      <td>Cello</td>\n",
              "      <td>0</td>\n",
              "    </tr>\n",
              "    <tr>\n",
              "      <th>8</th>\n",
              "      <td>004ad66f.wav</td>\n",
              "      <td>Clarinet</td>\n",
              "      <td>0</td>\n",
              "    </tr>\n",
              "    <tr>\n",
              "      <th>14</th>\n",
              "      <td>0091fc7f.wav</td>\n",
              "      <td>Cello</td>\n",
              "      <td>1</td>\n",
              "    </tr>\n",
              "  </tbody>\n",
              "</table>\n",
              "</div>\n",
              "      <button class=\"colab-df-convert\" onclick=\"convertToInteractive('df-654663d0-c066-4dd8-b2c8-05bf121fc504')\"\n",
              "              title=\"Convert this dataframe to an interactive table.\"\n",
              "              style=\"display:none;\">\n",
              "        \n",
              "  <svg xmlns=\"http://www.w3.org/2000/svg\" height=\"24px\"viewBox=\"0 0 24 24\"\n",
              "       width=\"24px\">\n",
              "    <path d=\"M0 0h24v24H0V0z\" fill=\"none\"/>\n",
              "    <path d=\"M18.56 5.44l.94 2.06.94-2.06 2.06-.94-2.06-.94-.94-2.06-.94 2.06-2.06.94zm-11 1L8.5 8.5l.94-2.06 2.06-.94-2.06-.94L8.5 2.5l-.94 2.06-2.06.94zm10 10l.94 2.06.94-2.06 2.06-.94-2.06-.94-.94-2.06-.94 2.06-2.06.94z\"/><path d=\"M17.41 7.96l-1.37-1.37c-.4-.4-.92-.59-1.43-.59-.52 0-1.04.2-1.43.59L10.3 9.45l-7.72 7.72c-.78.78-.78 2.05 0 2.83L4 21.41c.39.39.9.59 1.41.59.51 0 1.02-.2 1.41-.59l7.78-7.78 2.81-2.81c.8-.78.8-2.07 0-2.86zM5.41 20L4 18.59l7.72-7.72 1.47 1.35L5.41 20z\"/>\n",
              "  </svg>\n",
              "      </button>\n",
              "      \n",
              "  <style>\n",
              "    .colab-df-container {\n",
              "      display:flex;\n",
              "      flex-wrap:wrap;\n",
              "      gap: 12px;\n",
              "    }\n",
              "\n",
              "    .colab-df-convert {\n",
              "      background-color: #E8F0FE;\n",
              "      border: none;\n",
              "      border-radius: 50%;\n",
              "      cursor: pointer;\n",
              "      display: none;\n",
              "      fill: #1967D2;\n",
              "      height: 32px;\n",
              "      padding: 0 0 0 0;\n",
              "      width: 32px;\n",
              "    }\n",
              "\n",
              "    .colab-df-convert:hover {\n",
              "      background-color: #E2EBFA;\n",
              "      box-shadow: 0px 1px 2px rgba(60, 64, 67, 0.3), 0px 1px 3px 1px rgba(60, 64, 67, 0.15);\n",
              "      fill: #174EA6;\n",
              "    }\n",
              "\n",
              "    [theme=dark] .colab-df-convert {\n",
              "      background-color: #3B4455;\n",
              "      fill: #D2E3FC;\n",
              "    }\n",
              "\n",
              "    [theme=dark] .colab-df-convert:hover {\n",
              "      background-color: #434B5C;\n",
              "      box-shadow: 0px 1px 3px 1px rgba(0, 0, 0, 0.15);\n",
              "      filter: drop-shadow(0px 1px 2px rgba(0, 0, 0, 0.3));\n",
              "      fill: #FFFFFF;\n",
              "    }\n",
              "  </style>\n",
              "\n",
              "      <script>\n",
              "        const buttonEl =\n",
              "          document.querySelector('#df-654663d0-c066-4dd8-b2c8-05bf121fc504 button.colab-df-convert');\n",
              "        buttonEl.style.display =\n",
              "          google.colab.kernel.accessAllowed ? 'block' : 'none';\n",
              "\n",
              "        async function convertToInteractive(key) {\n",
              "          const element = document.querySelector('#df-654663d0-c066-4dd8-b2c8-05bf121fc504');\n",
              "          const dataTable =\n",
              "            await google.colab.kernel.invokeFunction('convertToInteractive',\n",
              "                                                     [key], {});\n",
              "          if (!dataTable) return;\n",
              "\n",
              "          const docLinkHtml = 'Like what you see? Visit the ' +\n",
              "            '<a target=\"_blank\" href=https://colab.research.google.com/notebooks/data_table.ipynb>data table notebook</a>'\n",
              "            + ' to learn more about interactive tables.';\n",
              "          element.innerHTML = '';\n",
              "          dataTable['output_type'] = 'display_data';\n",
              "          await google.colab.output.renderOutput(dataTable, element);\n",
              "          const docLink = document.createElement('div');\n",
              "          docLink.innerHTML = docLinkHtml;\n",
              "          element.appendChild(docLink);\n",
              "        }\n",
              "      </script>\n",
              "    </div>\n",
              "  </div>\n",
              "  "
            ],
            "text/plain": [
              "           fname      label  manually_verified\n",
              "1   001ca53d.wav  Saxophone                  1\n",
              "4   00353774.wav      Cello                  1\n",
              "5   003b91e8.wav      Cello                  0\n",
              "8   004ad66f.wav   Clarinet                  0\n",
              "14  0091fc7f.wav      Cello                  1"
            ]
          },
          "metadata": {},
          "execution_count": 8
        }
      ],
      "source": [
        "audio_list = []\n",
        "not_found = 0\n",
        "for i in tqdm(range(data_frame.shape[0])):\n",
        "  try:\n",
        "    audio_list.append(librosa.load(data + 'audio/audio_train/' + data_frame['fname'].iloc[i]))\n",
        "  except:\n",
        "    not_found += 1\n",
        "data_frame.head()"
      ]
    },
    {
      "cell_type": "code",
      "execution_count": null,
      "metadata": {
        "id": "3umcSKRmuKCB",
        "colab": {
          "base_uri": "https://localhost:8080/"
        },
        "outputId": "15767352-3213-4490-9a1b-b7bb5c17927a"
      },
      "outputs": [
        {
          "output_type": "stream",
          "name": "stdout",
          "text": [
            "(1500, 2)\n",
            "(1500, 3)\n"
          ]
        },
        {
          "output_type": "stream",
          "name": "stderr",
          "text": [
            "/usr/local/lib/python3.7/dist-packages/ipykernel_launcher.py:1: VisibleDeprecationWarning: Creating an ndarray from ragged nested sequences (which is a list-or-tuple of lists-or-tuples-or ndarrays with different lengths or shapes) is deprecated. If you meant to do this, you must specify 'dtype=object' when creating the ndarray\n",
            "  \"\"\"Entry point for launching an IPython kernel.\n"
          ]
        }
      ],
      "source": [
        "audio_list = np.array(audio_list)\n",
        "print(audio_list.shape)\n",
        "print(data_frame.shape)"
      ]
    },
    {
      "cell_type": "markdown",
      "metadata": {
        "id": "5a8mjPqOuKCC"
      },
      "source": [
        "A questo punto, andiamo ad aggiungere le informazioni relative ai suoni (segnale e frequenza di campionamento) all'interno del data frame"
      ]
    },
    {
      "cell_type": "code",
      "execution_count": null,
      "metadata": {
        "id": "bgSbR9K1uKCD",
        "colab": {
          "base_uri": "https://localhost:8080/",
          "height": 206
        },
        "outputId": "08973ab9-8e73-44ac-e6a0-1ca0d886d118"
      },
      "outputs": [
        {
          "output_type": "execute_result",
          "data": {
            "text/html": [
              "\n",
              "  <div id=\"df-dc952cce-e05b-46ce-8eba-cc0481ff5980\">\n",
              "    <div class=\"colab-df-container\">\n",
              "      <div>\n",
              "<style scoped>\n",
              "    .dataframe tbody tr th:only-of-type {\n",
              "        vertical-align: middle;\n",
              "    }\n",
              "\n",
              "    .dataframe tbody tr th {\n",
              "        vertical-align: top;\n",
              "    }\n",
              "\n",
              "    .dataframe thead th {\n",
              "        text-align: right;\n",
              "    }\n",
              "</style>\n",
              "<table border=\"1\" class=\"dataframe\">\n",
              "  <thead>\n",
              "    <tr style=\"text-align: right;\">\n",
              "      <th></th>\n",
              "      <th>fname</th>\n",
              "      <th>label</th>\n",
              "      <th>manually_verified</th>\n",
              "      <th>audio_waves</th>\n",
              "      <th>sample_rate</th>\n",
              "    </tr>\n",
              "  </thead>\n",
              "  <tbody>\n",
              "    <tr>\n",
              "      <th>1</th>\n",
              "      <td>001ca53d.wav</td>\n",
              "      <td>Saxophone</td>\n",
              "      <td>1</td>\n",
              "      <td>[-0.0007303721, -0.0010996412, -0.0010551845, ...</td>\n",
              "      <td>22050</td>\n",
              "    </tr>\n",
              "    <tr>\n",
              "      <th>4</th>\n",
              "      <td>00353774.wav</td>\n",
              "      <td>Cello</td>\n",
              "      <td>1</td>\n",
              "      <td>[-0.003822653, -0.0053708917, -0.0044372473, -...</td>\n",
              "      <td>22050</td>\n",
              "    </tr>\n",
              "    <tr>\n",
              "      <th>5</th>\n",
              "      <td>003b91e8.wav</td>\n",
              "      <td>Cello</td>\n",
              "      <td>0</td>\n",
              "      <td>[0.0031921505, 0.0048865937, 0.004513402, 0.00...</td>\n",
              "      <td>22050</td>\n",
              "    </tr>\n",
              "    <tr>\n",
              "      <th>8</th>\n",
              "      <td>004ad66f.wav</td>\n",
              "      <td>Clarinet</td>\n",
              "      <td>0</td>\n",
              "      <td>[-0.00018609133, -0.00029739283, -0.0003075322...</td>\n",
              "      <td>22050</td>\n",
              "    </tr>\n",
              "    <tr>\n",
              "      <th>14</th>\n",
              "      <td>0091fc7f.wav</td>\n",
              "      <td>Cello</td>\n",
              "      <td>1</td>\n",
              "      <td>[0.00042805163, 0.0005860274, 0.00045838652, 0...</td>\n",
              "      <td>22050</td>\n",
              "    </tr>\n",
              "  </tbody>\n",
              "</table>\n",
              "</div>\n",
              "      <button class=\"colab-df-convert\" onclick=\"convertToInteractive('df-dc952cce-e05b-46ce-8eba-cc0481ff5980')\"\n",
              "              title=\"Convert this dataframe to an interactive table.\"\n",
              "              style=\"display:none;\">\n",
              "        \n",
              "  <svg xmlns=\"http://www.w3.org/2000/svg\" height=\"24px\"viewBox=\"0 0 24 24\"\n",
              "       width=\"24px\">\n",
              "    <path d=\"M0 0h24v24H0V0z\" fill=\"none\"/>\n",
              "    <path d=\"M18.56 5.44l.94 2.06.94-2.06 2.06-.94-2.06-.94-.94-2.06-.94 2.06-2.06.94zm-11 1L8.5 8.5l.94-2.06 2.06-.94-2.06-.94L8.5 2.5l-.94 2.06-2.06.94zm10 10l.94 2.06.94-2.06 2.06-.94-2.06-.94-.94-2.06-.94 2.06-2.06.94z\"/><path d=\"M17.41 7.96l-1.37-1.37c-.4-.4-.92-.59-1.43-.59-.52 0-1.04.2-1.43.59L10.3 9.45l-7.72 7.72c-.78.78-.78 2.05 0 2.83L4 21.41c.39.39.9.59 1.41.59.51 0 1.02-.2 1.41-.59l7.78-7.78 2.81-2.81c.8-.78.8-2.07 0-2.86zM5.41 20L4 18.59l7.72-7.72 1.47 1.35L5.41 20z\"/>\n",
              "  </svg>\n",
              "      </button>\n",
              "      \n",
              "  <style>\n",
              "    .colab-df-container {\n",
              "      display:flex;\n",
              "      flex-wrap:wrap;\n",
              "      gap: 12px;\n",
              "    }\n",
              "\n",
              "    .colab-df-convert {\n",
              "      background-color: #E8F0FE;\n",
              "      border: none;\n",
              "      border-radius: 50%;\n",
              "      cursor: pointer;\n",
              "      display: none;\n",
              "      fill: #1967D2;\n",
              "      height: 32px;\n",
              "      padding: 0 0 0 0;\n",
              "      width: 32px;\n",
              "    }\n",
              "\n",
              "    .colab-df-convert:hover {\n",
              "      background-color: #E2EBFA;\n",
              "      box-shadow: 0px 1px 2px rgba(60, 64, 67, 0.3), 0px 1px 3px 1px rgba(60, 64, 67, 0.15);\n",
              "      fill: #174EA6;\n",
              "    }\n",
              "\n",
              "    [theme=dark] .colab-df-convert {\n",
              "      background-color: #3B4455;\n",
              "      fill: #D2E3FC;\n",
              "    }\n",
              "\n",
              "    [theme=dark] .colab-df-convert:hover {\n",
              "      background-color: #434B5C;\n",
              "      box-shadow: 0px 1px 3px 1px rgba(0, 0, 0, 0.15);\n",
              "      filter: drop-shadow(0px 1px 2px rgba(0, 0, 0, 0.3));\n",
              "      fill: #FFFFFF;\n",
              "    }\n",
              "  </style>\n",
              "\n",
              "      <script>\n",
              "        const buttonEl =\n",
              "          document.querySelector('#df-dc952cce-e05b-46ce-8eba-cc0481ff5980 button.colab-df-convert');\n",
              "        buttonEl.style.display =\n",
              "          google.colab.kernel.accessAllowed ? 'block' : 'none';\n",
              "\n",
              "        async function convertToInteractive(key) {\n",
              "          const element = document.querySelector('#df-dc952cce-e05b-46ce-8eba-cc0481ff5980');\n",
              "          const dataTable =\n",
              "            await google.colab.kernel.invokeFunction('convertToInteractive',\n",
              "                                                     [key], {});\n",
              "          if (!dataTable) return;\n",
              "\n",
              "          const docLinkHtml = 'Like what you see? Visit the ' +\n",
              "            '<a target=\"_blank\" href=https://colab.research.google.com/notebooks/data_table.ipynb>data table notebook</a>'\n",
              "            + ' to learn more about interactive tables.';\n",
              "          element.innerHTML = '';\n",
              "          dataTable['output_type'] = 'display_data';\n",
              "          await google.colab.output.renderOutput(dataTable, element);\n",
              "          const docLink = document.createElement('div');\n",
              "          docLink.innerHTML = docLinkHtml;\n",
              "          element.appendChild(docLink);\n",
              "        }\n",
              "      </script>\n",
              "    </div>\n",
              "  </div>\n",
              "  "
            ],
            "text/plain": [
              "           fname  ... sample_rate\n",
              "1   001ca53d.wav  ...       22050\n",
              "4   00353774.wav  ...       22050\n",
              "5   003b91e8.wav  ...       22050\n",
              "8   004ad66f.wav  ...       22050\n",
              "14  0091fc7f.wav  ...       22050\n",
              "\n",
              "[5 rows x 5 columns]"
            ]
          },
          "metadata": {},
          "execution_count": 10
        }
      ],
      "source": [
        "data_frame['audio_waves'] = audio_list[:,0]\n",
        "data_frame['sample_rate'] = audio_list[:,1]\n",
        "data_frame.head()"
      ]
    },
    {
      "cell_type": "markdown",
      "metadata": {
        "id": "tF9eGlgIuKCD"
      },
      "source": [
        "Tramite queste due informazioni, si calcolano altre caratteristiche dei segnali audio importati dal dataset, ossia il numero di bit che compongono il segnale e la lunghezza in termini di tempo, che torneranno utili successivamente. Anche in questo caso, si inseriscono i nuovi dati all'interno del data frame."
      ]
    },
    {
      "cell_type": "code",
      "execution_count": null,
      "metadata": {
        "id": "p5IXxwYbuKCE",
        "colab": {
          "base_uri": "https://localhost:8080/",
          "height": 206
        },
        "outputId": "45d7457c-2d12-4429-b876-42868f04b69d"
      },
      "outputs": [
        {
          "output_type": "execute_result",
          "data": {
            "text/html": [
              "\n",
              "  <div id=\"df-4f06ee07-f464-4cee-966e-175f658d88d6\">\n",
              "    <div class=\"colab-df-container\">\n",
              "      <div>\n",
              "<style scoped>\n",
              "    .dataframe tbody tr th:only-of-type {\n",
              "        vertical-align: middle;\n",
              "    }\n",
              "\n",
              "    .dataframe tbody tr th {\n",
              "        vertical-align: top;\n",
              "    }\n",
              "\n",
              "    .dataframe thead th {\n",
              "        text-align: right;\n",
              "    }\n",
              "</style>\n",
              "<table border=\"1\" class=\"dataframe\">\n",
              "  <thead>\n",
              "    <tr style=\"text-align: right;\">\n",
              "      <th></th>\n",
              "      <th>fname</th>\n",
              "      <th>label</th>\n",
              "      <th>manually_verified</th>\n",
              "      <th>audio_waves</th>\n",
              "      <th>sample_rate</th>\n",
              "      <th>bit_lengths</th>\n",
              "      <th>time_length</th>\n",
              "    </tr>\n",
              "  </thead>\n",
              "  <tbody>\n",
              "    <tr>\n",
              "      <th>1</th>\n",
              "      <td>001ca53d.wav</td>\n",
              "      <td>Saxophone</td>\n",
              "      <td>1</td>\n",
              "      <td>[-0.0007303721, -0.0010996412, -0.0010551845, ...</td>\n",
              "      <td>22050</td>\n",
              "      <td>227556</td>\n",
              "      <td>10.32</td>\n",
              "    </tr>\n",
              "    <tr>\n",
              "      <th>4</th>\n",
              "      <td>00353774.wav</td>\n",
              "      <td>Cello</td>\n",
              "      <td>1</td>\n",
              "      <td>[-0.003822653, -0.0053708917, -0.0044372473, -...</td>\n",
              "      <td>22050</td>\n",
              "      <td>99666</td>\n",
              "      <td>4.52</td>\n",
              "    </tr>\n",
              "    <tr>\n",
              "      <th>5</th>\n",
              "      <td>003b91e8.wav</td>\n",
              "      <td>Cello</td>\n",
              "      <td>0</td>\n",
              "      <td>[0.0031921505, 0.0048865937, 0.004513402, 0.00...</td>\n",
              "      <td>22050</td>\n",
              "      <td>292824</td>\n",
              "      <td>13.28</td>\n",
              "    </tr>\n",
              "    <tr>\n",
              "      <th>8</th>\n",
              "      <td>004ad66f.wav</td>\n",
              "      <td>Clarinet</td>\n",
              "      <td>0</td>\n",
              "      <td>[-0.00018609133, -0.00029739283, -0.0003075322...</td>\n",
              "      <td>22050</td>\n",
              "      <td>154350</td>\n",
              "      <td>7</td>\n",
              "    </tr>\n",
              "    <tr>\n",
              "      <th>14</th>\n",
              "      <td>0091fc7f.wav</td>\n",
              "      <td>Cello</td>\n",
              "      <td>1</td>\n",
              "      <td>[0.00042805163, 0.0005860274, 0.00045838652, 0...</td>\n",
              "      <td>22050</td>\n",
              "      <td>125685</td>\n",
              "      <td>5.7</td>\n",
              "    </tr>\n",
              "  </tbody>\n",
              "</table>\n",
              "</div>\n",
              "      <button class=\"colab-df-convert\" onclick=\"convertToInteractive('df-4f06ee07-f464-4cee-966e-175f658d88d6')\"\n",
              "              title=\"Convert this dataframe to an interactive table.\"\n",
              "              style=\"display:none;\">\n",
              "        \n",
              "  <svg xmlns=\"http://www.w3.org/2000/svg\" height=\"24px\"viewBox=\"0 0 24 24\"\n",
              "       width=\"24px\">\n",
              "    <path d=\"M0 0h24v24H0V0z\" fill=\"none\"/>\n",
              "    <path d=\"M18.56 5.44l.94 2.06.94-2.06 2.06-.94-2.06-.94-.94-2.06-.94 2.06-2.06.94zm-11 1L8.5 8.5l.94-2.06 2.06-.94-2.06-.94L8.5 2.5l-.94 2.06-2.06.94zm10 10l.94 2.06.94-2.06 2.06-.94-2.06-.94-.94-2.06-.94 2.06-2.06.94z\"/><path d=\"M17.41 7.96l-1.37-1.37c-.4-.4-.92-.59-1.43-.59-.52 0-1.04.2-1.43.59L10.3 9.45l-7.72 7.72c-.78.78-.78 2.05 0 2.83L4 21.41c.39.39.9.59 1.41.59.51 0 1.02-.2 1.41-.59l7.78-7.78 2.81-2.81c.8-.78.8-2.07 0-2.86zM5.41 20L4 18.59l7.72-7.72 1.47 1.35L5.41 20z\"/>\n",
              "  </svg>\n",
              "      </button>\n",
              "      \n",
              "  <style>\n",
              "    .colab-df-container {\n",
              "      display:flex;\n",
              "      flex-wrap:wrap;\n",
              "      gap: 12px;\n",
              "    }\n",
              "\n",
              "    .colab-df-convert {\n",
              "      background-color: #E8F0FE;\n",
              "      border: none;\n",
              "      border-radius: 50%;\n",
              "      cursor: pointer;\n",
              "      display: none;\n",
              "      fill: #1967D2;\n",
              "      height: 32px;\n",
              "      padding: 0 0 0 0;\n",
              "      width: 32px;\n",
              "    }\n",
              "\n",
              "    .colab-df-convert:hover {\n",
              "      background-color: #E2EBFA;\n",
              "      box-shadow: 0px 1px 2px rgba(60, 64, 67, 0.3), 0px 1px 3px 1px rgba(60, 64, 67, 0.15);\n",
              "      fill: #174EA6;\n",
              "    }\n",
              "\n",
              "    [theme=dark] .colab-df-convert {\n",
              "      background-color: #3B4455;\n",
              "      fill: #D2E3FC;\n",
              "    }\n",
              "\n",
              "    [theme=dark] .colab-df-convert:hover {\n",
              "      background-color: #434B5C;\n",
              "      box-shadow: 0px 1px 3px 1px rgba(0, 0, 0, 0.15);\n",
              "      filter: drop-shadow(0px 1px 2px rgba(0, 0, 0, 0.3));\n",
              "      fill: #FFFFFF;\n",
              "    }\n",
              "  </style>\n",
              "\n",
              "      <script>\n",
              "        const buttonEl =\n",
              "          document.querySelector('#df-4f06ee07-f464-4cee-966e-175f658d88d6 button.colab-df-convert');\n",
              "        buttonEl.style.display =\n",
              "          google.colab.kernel.accessAllowed ? 'block' : 'none';\n",
              "\n",
              "        async function convertToInteractive(key) {\n",
              "          const element = document.querySelector('#df-4f06ee07-f464-4cee-966e-175f658d88d6');\n",
              "          const dataTable =\n",
              "            await google.colab.kernel.invokeFunction('convertToInteractive',\n",
              "                                                     [key], {});\n",
              "          if (!dataTable) return;\n",
              "\n",
              "          const docLinkHtml = 'Like what you see? Visit the ' +\n",
              "            '<a target=\"_blank\" href=https://colab.research.google.com/notebooks/data_table.ipynb>data table notebook</a>'\n",
              "            + ' to learn more about interactive tables.';\n",
              "          element.innerHTML = '';\n",
              "          dataTable['output_type'] = 'display_data';\n",
              "          await google.colab.output.renderOutput(dataTable, element);\n",
              "          const docLink = document.createElement('div');\n",
              "          docLink.innerHTML = docLinkHtml;\n",
              "          element.appendChild(docLink);\n",
              "        }\n",
              "      </script>\n",
              "    </div>\n",
              "  </div>\n",
              "  "
            ],
            "text/plain": [
              "           fname      label  ...  bit_lengths time_length\n",
              "1   001ca53d.wav  Saxophone  ...       227556       10.32\n",
              "4   00353774.wav      Cello  ...        99666        4.52\n",
              "5   003b91e8.wav      Cello  ...       292824       13.28\n",
              "8   004ad66f.wav   Clarinet  ...       154350           7\n",
              "14  0091fc7f.wav      Cello  ...       125685         5.7\n",
              "\n",
              "[5 rows x 7 columns]"
            ]
          },
          "metadata": {},
          "execution_count": 11
        }
      ],
      "source": [
        "bit_len = []\n",
        "for aw in range(data_frame.shape[0]):\n",
        "    bit_len.append(len(data_frame['audio_waves'].iloc[aw]))\n",
        "bit_len = np.array(bit_len)\n",
        "data_frame['bit_lengths'] = bit_len\n",
        "data_frame['time_length'] = data_frame['bit_lengths']/data_frame['sample_rate']\n",
        "data_frame.head()"
      ]
    },
    {
      "cell_type": "markdown",
      "metadata": {
        "id": "4Xaep8VbuKCF"
      },
      "source": [
        "## Fase 3: Manipolazione dei dati\n",
        "A questo punto, si conoscono diverse informazioni relative ai segnali. Come si può notare dai dati collezionati fino ad ora, i valori di lunghezza (di bit e, dunque, in termini di tempo) sono diversi fra loro. Questo è un problema: la CNN non è in grado di adattarsi a segnali di diverse lunghezze; per questo motivo, è necessario rendere tutti i segnali all'interno del dataset lunghi uguali. Inoltre, bisogna tenere conto della lunghezza selezionata per i segnali: se la dimensione scelta fosse troppo grande, la fase di training diventerebbe troppo lunga; al contrario, una dimensione troppo ridotta non permetterebbe ai neuroni della rete di recuperare le informazioni necessarie per poter eseguire una classificazione precisa. Per questo motivo, la soluzione consigliata è quella di mantenere una lunghezza di 2 secondi."
      ]
    },
    {
      "cell_type": "markdown",
      "metadata": {
        "id": "N9WcUXITuKCG"
      },
      "source": [
        "Per prima cosa, è necessario eliminare tutti i segnali più brevi del tempo prestabilito."
      ]
    },
    {
      "cell_type": "code",
      "execution_count": null,
      "metadata": {
        "id": "6HkJgWXDuKCH"
      },
      "outputs": [],
      "source": [
        "data_frame = data_frame[data_frame['time_length'] >= 2.0]"
      ]
    },
    {
      "cell_type": "code",
      "execution_count": null,
      "metadata": {
        "id": "ThLR5wgmuKCI",
        "colab": {
          "base_uri": "https://localhost:8080/"
        },
        "outputId": "bbe01fbb-c3ed-4af0-cfd8-64b493ee5d8c"
      },
      "outputs": [
        {
          "output_type": "stream",
          "name": "stdout",
          "text": [
            "Cello --> (286, 7)\n",
            "Saxophone --> (250, 7)\n",
            "Acoustic_guitar --> (275, 7)\n",
            "Double_bass --> (205, 7)\n",
            "Clarinet --> (290, 7)\n"
          ]
        }
      ],
      "source": [
        "for i in instruments:\n",
        "  print(i + ' --> ' + str(data_frame[data_frame['label'] == i].shape))"
      ]
    },
    {
      "cell_type": "code",
      "execution_count": null,
      "metadata": {
        "id": "yywH65tuuKCI",
        "colab": {
          "base_uri": "https://localhost:8080/"
        },
        "outputId": "6e8b427f-890a-4c19-b7ae-81a2eb40e0b1"
      },
      "outputs": [
        {
          "output_type": "stream",
          "name": "stdout",
          "text": [
            "2.0\n"
          ]
        }
      ],
      "source": [
        "min_seconds = np.min(data_frame['time_length'])\n",
        "print(min_seconds)"
      ]
    },
    {
      "cell_type": "markdown",
      "metadata": {
        "id": "qvUIiQtpuKCJ"
      },
      "source": [
        "Il dato minimo di lunghezza in bit è un dato molto importante..."
      ]
    },
    {
      "cell_type": "code",
      "execution_count": null,
      "metadata": {
        "id": "FobE5XsxuKCJ",
        "colab": {
          "base_uri": "https://localhost:8080/"
        },
        "outputId": "00382669-9340-4ceb-8d25-275182e25a77"
      },
      "outputs": [
        {
          "output_type": "stream",
          "name": "stdout",
          "text": [
            "44100\n"
          ]
        }
      ],
      "source": [
        "min_bits = np.min(data_frame['bit_lengths'])\n",
        "print(min_bits)"
      ]
    },
    {
      "cell_type": "markdown",
      "metadata": {
        "id": "NlNEuos7uKCK"
      },
      "source": [
        "... perchè permette di eseguire la seguente operazione definita qui sotto; il compito di questa funzione è quello di prendere un campione di 2 secondi da una traccia audio scelta casualmente all'interno del dataset (una traccia audio può essere utilizzata per la creazione di diversi campioni). Il valore minimo di bit (44100) è l'equivalente in termini di tempo di 2 secondi e verrà dunque utilizzato per spostarsi all'interno del segnale."
      ]
    },
    {
      "cell_type": "code",
      "execution_count": null,
      "metadata": {
        "id": "_zcNP8touKCL",
        "colab": {
          "base_uri": "https://localhost:8080/"
        },
        "outputId": "655b5b05-af7c-4862-b430-8ff847d6907b"
      },
      "outputs": [
        {
          "output_type": "stream",
          "name": "stderr",
          "text": [
            "100%|██████████| 6000/6000 [00:10<00:00, 562.52it/s]\n"
          ]
        }
      ],
      "source": [
        "num_samples = 6000\n",
        "generated_audio_waves = []\n",
        "generated_audio_labels = []\n",
        "for i in tqdm(range(num_samples)):\n",
        "    try:\n",
        "        chosen_file = np.random.choice(data_frame['fname'].values)\n",
        "        first_bit = np.random.choice(np.arange(0, data_frame[data_frame['fname'] == chosen_file]['bit_lengths'].values - min_bits))\n",
        "        generated_audio_waves.append(data_frame[data_frame['fname']==chosen_file]['audio_waves'].values[0][first_bit:first_bit + min_bits])\n",
        "        generated_audio_labels.append(data_frame[data_frame['fname']==chosen_file]['label'].values)\n",
        "    except ValueError:\n",
        "        continue\n",
        "generated_audio_waves = np.array(generated_audio_waves)\n",
        "generated_audio_labels = np.array(generated_audio_labels)"
      ]
    },
    {
      "cell_type": "markdown",
      "metadata": {
        "id": "P5d23tBHuKCM"
      },
      "source": [
        "## Fase 4: Preprocessing del segnale audio: MFCC"
      ]
    },
    {
      "cell_type": "markdown",
      "metadata": {
        "id": "pjovK2RvuKCM"
      },
      "source": [
        "Una volta recuperati i campioni da 2 secondi dalle tracce audio presenti nel dataset, i dati che si conoscono potrebbero essere sufficienti per passare alla fase di training e successivo testing della rete neurale. Il problema dei segnali audio che sono stati selezionati è che non sono altro che vettori lunghi 44100 bit (2 secondi in termini di tempo) che non hanno vere e proprie informazioni in grado di permettere ad una rete neurale di classificarle con accuratezza, poichè rappresentano solamente la potenza del segnale in ogni bit (più concretamente, quanto è forte un suono).<br>\n",
        "La modalità adottata in questo studio (ma anche in molti altri algoritmi di sound recognition) è quella dell'estrazione del **MFCC** (*Mel-Frequency Cepstral Coefficient(s)*). Questi coefficienti sono definiti come una rappresentazione sulla *scala di Mel* (ossia una scala che mette in rapporto le frequenze in Hz con l'intensità dei suoni in dB) dello spettro di un segnale audio.\n",
        "Il calcolo della MFCC, che segue processi matematici piuttosto complessi, viene eseguito dalla omonima funzione della libreria *python_speech_features* e crea un'immagine in cui il colore dei pixel varia in base all'intensità del segnale: all'aumentare dell'intensità, il colore diventa sempre più chiaro.<br>\n",
        "La differenza fondamentale tra il segnale audio in forma \"normale\" e quello preprocessato (ossia MFCC) è che il secondo, oltre a tenere in considerazione la potenza del segnale, riesce anche a estrarre informazioni relative alla sua **intonazione**, permettendo dunque di classificare con maggiore precisione i vari campioni.  "
      ]
    },
    {
      "cell_type": "markdown",
      "metadata": {
        "id": "AE76YXhSuKCN"
      },
      "source": [
        "Dunque, calcoliamo per ogni campione all'interno della lista *generated_audio_waves* i coefficienti di MFCC e li memorizziamo al'interno di una lista."
      ]
    },
    {
      "cell_type": "code",
      "execution_count": null,
      "metadata": {
        "id": "C7zptHaOuKCN",
        "colab": {
          "base_uri": "https://localhost:8080/"
        },
        "outputId": "19677fc4-8426-48cd-d145-ca3d66748cbd"
      },
      "outputs": [
        {
          "output_type": "stream",
          "name": "stderr",
          "text": [
            "100%|██████████| 5966/5966 [00:44<00:00, 132.80it/s]\n"
          ]
        }
      ],
      "source": [
        "mfcc_features = list()\n",
        "for i in tqdm(range(len(generated_audio_waves))):\n",
        "    mfcc_features.append(mfcc(generated_audio_waves[i]))\n",
        "mfcc_features = np.array(mfcc_features)"
      ]
    },
    {
      "cell_type": "markdown",
      "metadata": {
        "id": "XnJe2q1OuKCO"
      },
      "source": [
        "Da notare la differenza tra le due strutture dati: la prima, contiene vettori lunghi 44100 bit, mentre la seconda contiene informazioni che permettono di creare una *heatmap* 275x13 dei medesimi campioni, dove: \n",
        "<ul>\n",
        "    <li>275 è il rapporto tra la lunghezza del segnale (44100) e la frequenza di campionamento utilizzata dalla funzione <i>mfcc</i></li>\n",
        "    <li>13 rappresenta i livelli di potenza del segnale</li>\n",
        "</ul>"
      ]
    },
    {
      "cell_type": "code",
      "execution_count": null,
      "metadata": {
        "id": "HwLhOkIouKCP",
        "colab": {
          "base_uri": "https://localhost:8080/"
        },
        "outputId": "7fd37ca5-f081-4e16-c1b6-c77413e64278"
      },
      "outputs": [
        {
          "output_type": "stream",
          "name": "stdout",
          "text": [
            "(5966, 44100)\n",
            "(5966, 275, 13)\n"
          ]
        }
      ],
      "source": [
        "print(generated_audio_waves.shape)\n",
        "print(mfcc_features.shape)"
      ]
    },
    {
      "cell_type": "markdown",
      "metadata": {
        "id": "gnNJOT8puKCP"
      },
      "source": [
        "I seguenti plot raffigurano lo stesso segnale, prima rappresentato come potenza del segnale su ogni singolo bit del campione, mentre il secondo rappreseta la *heatmap* dei MFCC del segnale."
      ]
    },
    {
      "cell_type": "code",
      "execution_count": null,
      "metadata": {
        "id": "bTG4isSkuKCP",
        "colab": {
          "base_uri": "https://localhost:8080/"
        },
        "outputId": "5ccc305b-6493-4058-f30e-4fa2351a161d"
      },
      "outputs": [
        {
          "output_type": "display_data",
          "data": {
            "image/png": "[encoded data removed]",
            "text/plain": [
              "<Figure size 864x144 with 1 Axes>"
            ]
          },
          "metadata": {
            "needs_background": "light"
          }
        },
        {
          "output_type": "display_data",
          "data": {
            "image/png": "[encoded data removed]",
            "text/plain": [
              "<Figure size 864x144 with 1 Axes>"
            ]
          },
          "metadata": {
            "needs_background": "light"
          }
        }
      ],
      "source": [
        "plt.figure(figsize=(12,2))\n",
        "plt.plot(generated_audio_waves[30])\n",
        "plt.title(generated_audio_labels[30])\n",
        "plt.show()\n",
        "\n",
        "plt.figure(figsize=(12,2))\n",
        "plt.imshow(mfcc_features[30].T, cmap='hot') # .T ribalta il segnale (altrimenti lo vedreste verticale)\n",
        "plt.title(generated_audio_labels[30])\n",
        "plt.show()"
      ]
    },
    {
      "cell_type": "markdown",
      "metadata": {
        "id": "MoSDf49jmfeQ"
      },
      "source": [
        "## Fase 5: Codifica dei target/label\n",
        "Dobbiamo codificare i label, che ora sono ancora stringhe, prima con un semplice labelEncoder e poi con un OneHotEncoder per esprimere la classe di appartenenza del segnale"
      ]
    },
    {
      "cell_type": "code",
      "execution_count": null,
      "metadata": {
        "id": "yl_2PNDamfeQ",
        "colab": {
          "base_uri": "https://localhost:8080/"
        },
        "outputId": "d14e3592-afb4-4c58-85d0-b00822c6fb2e"
      },
      "outputs": [
        {
          "output_type": "stream",
          "name": "stderr",
          "text": [
            "/usr/local/lib/python3.7/dist-packages/sklearn/preprocessing/_label.py:115: DataConversionWarning: A column-vector y was passed when a 1d array was expected. Please change the shape of y to (n_samples, ), for example using ravel().\n",
            "  y = column_or_1d(y, warn=True)\n"
          ]
        }
      ],
      "source": [
        "label_encoder = LabelEncoder()\n",
        "label_encoded = label_encoder.fit_transform(generated_audio_labels)"
      ]
    },
    {
      "cell_type": "code",
      "execution_count": null,
      "metadata": {
        "id": "tqXuvWWqmfeR",
        "colab": {
          "base_uri": "https://localhost:8080/"
        },
        "outputId": "cce34b45-73f4-4bad-98b5-c99001d03afc"
      },
      "outputs": [
        {
          "output_type": "execute_result",
          "data": {
            "text/plain": [
              "array([[2],\n",
              "       [0],\n",
              "       [3],\n",
              "       ...,\n",
              "       [0],\n",
              "       [3],\n",
              "       [2]])"
            ]
          },
          "metadata": {},
          "execution_count": 118
        }
      ],
      "source": [
        "label_encoded = label_encoded[:, np.newaxis]\n",
        "label_encoded"
      ]
    },
    {
      "cell_type": "code",
      "execution_count": null,
      "metadata": {
        "id": "BltYJTmUmfeR",
        "colab": {
          "base_uri": "https://localhost:8080/"
        },
        "outputId": "50c72866-7e4a-4a0c-d871-569a6355a186"
      },
      "outputs": [
        {
          "output_type": "stream",
          "name": "stdout",
          "text": [
            "   0.0  1.0\n",
            "0    1    0\n",
            "1    1    0\n",
            "2    0    1\n",
            "3    1    0\n",
            "4    1    0\n",
            "---\n",
            "[0. 0. 1. 0. 0.]\n"
          ]
        }
      ],
      "source": [
        "one_hot_encoder = OneHotEncoder(sparse=False)\n",
        "one_hot_encoded = one_hot_encoder.fit_transform(label_encoded)\n",
        "print(pd.get_dummies(one_hot_encoded[0]))\n",
        "print(\"---\")\n",
        "print(one_hot_encoded[0])"
      ]
    },
    {
      "cell_type": "markdown",
      "metadata": {
        "id": "LBOkxI3zmfeR"
      },
      "source": [
        "## Fase 6: Training del modello\n",
        "A questo punto siamo pronti per la fase di training della CNN.<br>\n",
        "Si normalizzano i campioni utilizzando la formula della normalizzazione standard; successivamente si dividono i campioni in train e test (il 20% del totale diventerà un campione di test)."
      ]
    },
    {
      "cell_type": "code",
      "execution_count": null,
      "metadata": {
        "id": "zmXNnaIKmfeR"
      },
      "outputs": [],
      "source": [
        "X = mfcc_features\n",
        "y = one_hot_encoded\n",
        "X = (X-X.min())/(X.max()-X.min())\n",
        "X_train, X_val, y_train, y_val = train_test_split(X, y, test_size=0.3)\n",
        "X_val, X_test, y_val, y_test = train_test_split(X_val, y_val, test_size=0.33)"
      ]
    },
    {
      "cell_type": "code",
      "execution_count": null,
      "metadata": {
        "id": "2Mh33QO3mfeS",
        "colab": {
          "base_uri": "https://localhost:8080/"
        },
        "outputId": "074ade7c-cefd-40a2-c28b-44fda389cf09"
      },
      "outputs": [
        {
          "output_type": "stream",
          "name": "stdout",
          "text": [
            "(275, 13, 1)\n",
            "(4176, 275, 13, 1)\n",
            "(1199, 275, 13, 1)\n",
            "(591, 275, 13, 1)\n"
          ]
        }
      ],
      "source": [
        "input_shape = (X_train.shape[1], X_train.shape[2], 1)\n",
        "print(input_shape)\n",
        "X_train = X_train.reshape(X_train.shape[0], X_train.shape[1], X_train.shape[2], 1)\n",
        "print(X_train.shape)\n",
        "X_val = X_val.reshape(X_val.shape[0], X_val.shape[1], X_val.shape[2], 1)\n",
        "print(X_val.shape)\n",
        "X_test = X_test.reshape(X_test.shape[0], X_test.shape[1], X_test.shape[2], 1)\n",
        "print(X_test.shape)"
      ]
    },
    {
      "cell_type": "markdown",
      "metadata": {
        "id": "ZmF2y70hmfeS"
      },
      "source": [
        "Costruiamo il modello."
      ]
    },
    {
      "cell_type": "code",
      "execution_count": null,
      "metadata": {
        "id": "XlPfpnO7mfeS",
        "colab": {
          "base_uri": "https://localhost:8080/"
        },
        "outputId": "f621efc5-8995-4702-bd95-e4c030f533be"
      },
      "outputs": [
        {
          "output_type": "stream",
          "name": "stdout",
          "text": [
            "Model: \"sequential_7\"\n",
            "_________________________________________________________________\n",
            " Layer (type)                Output Shape              Param #   \n",
            "=================================================================\n",
            " conv2d_14 (Conv2D)          (None, 275, 13, 16)       160       \n",
            "                                                                 \n",
            " conv2d_15 (Conv2D)          (None, 275, 13, 32)       4640      \n",
            "                                                                 \n",
            " max_pooling2d_7 (MaxPooling  (None, 137, 6, 32)       0         \n",
            " 2D)                                                             \n",
            "                                                                 \n",
            " dropout_21 (Dropout)        (None, 137, 6, 32)        0         \n",
            "                                                                 \n",
            " flatten_7 (Flatten)         (None, 26304)             0         \n",
            "                                                                 \n",
            " dense_21 (Dense)            (None, 128)               3367040   \n",
            "                                                                 \n",
            " dropout_22 (Dropout)        (None, 128)               0         \n",
            "                                                                 \n",
            " dense_22 (Dense)            (None, 64)                8256      \n",
            "                                                                 \n",
            " dropout_23 (Dropout)        (None, 64)                0         \n",
            "                                                                 \n",
            " dense_23 (Dense)            (None, 5)                 325       \n",
            "                                                                 \n",
            "=================================================================\n",
            "Total params: 3,380,421\n",
            "Trainable params: 3,380,421\n",
            "Non-trainable params: 0\n",
            "_________________________________________________________________\n"
          ]
        }
      ],
      "source": [
        "model = Sequential()\n",
        "model.add(Conv2D(16, (3, 3), activation='relu', strides=(1, 1), \n",
        "    padding='same', input_shape=input_shape))\n",
        "model.add(Conv2D(32, (3, 3), activation='relu', strides=(1, 1), \n",
        "    padding='same'))\n",
        "model.add(MaxPool2D((2, 2)))\n",
        "model.add(Dropout(0.5))\n",
        "model.add(Flatten())\n",
        "model.add(Dense(128, activation='relu'))\n",
        "model.add(Dropout(0.5))\n",
        "model.add(Dense(64, activation='relu'))\n",
        "model.add(Dropout(0.5))\n",
        "model.add(Dense(5, activation='softmax'))\n",
        "\n",
        "model.compile(loss='categorical_crossentropy', \n",
        "     optimizer='adam',\n",
        "     metrics=['acc'])\n",
        "model.summary()"
      ]
    },
    {
      "cell_type": "markdown",
      "metadata": {
        "id": "oGHY9F8LmfeS"
      },
      "source": [
        "Ora è il momento di fare il fit del modello."
      ]
    },
    {
      "cell_type": "code",
      "execution_count": null,
      "metadata": {
        "id": "_DEmCyHEmfeS",
        "colab": {
          "base_uri": "https://localhost:8080/"
        },
        "outputId": "e638d4de-5822-4b92-9381-f59c65bffe02"
      },
      "outputs": [
        {
          "output_type": "stream",
          "name": "stdout",
          "text": [
            "Epoch 1/30\n",
            "131/131 [==============================] - 2s 10ms/step - loss: 1.4413 - acc: 0.3443 - val_loss: 1.2318 - val_acc: 0.4595\n",
            "Epoch 2/30\n",
            "131/131 [==============================] - 1s 8ms/step - loss: 1.2227 - acc: 0.4713 - val_loss: 1.0911 - val_acc: 0.5780\n",
            "Epoch 3/30\n",
            "131/131 [==============================] - 1s 8ms/step - loss: 1.1155 - acc: 0.5563 - val_loss: 0.9801 - val_acc: 0.6297\n",
            "Epoch 4/30\n",
            "131/131 [==============================] - 1s 8ms/step - loss: 1.0270 - acc: 0.6008 - val_loss: 0.8778 - val_acc: 0.6656\n",
            "Epoch 5/30\n",
            "131/131 [==============================] - 1s 8ms/step - loss: 0.9559 - acc: 0.6341 - val_loss: 0.8211 - val_acc: 0.6881\n",
            "Epoch 6/30\n",
            "131/131 [==============================] - 1s 8ms/step - loss: 0.8683 - acc: 0.6741 - val_loss: 0.7523 - val_acc: 0.7206\n",
            "Epoch 7/30\n",
            "131/131 [==============================] - 1s 8ms/step - loss: 0.8236 - acc: 0.6980 - val_loss: 0.7250 - val_acc: 0.7314\n",
            "Epoch 8/30\n",
            "131/131 [==============================] - 1s 8ms/step - loss: 0.7994 - acc: 0.7124 - val_loss: 0.7210 - val_acc: 0.7289\n",
            "Epoch 9/30\n",
            "131/131 [==============================] - 1s 8ms/step - loss: 0.7597 - acc: 0.7249 - val_loss: 0.6403 - val_acc: 0.7556\n",
            "Epoch 10/30\n",
            "131/131 [==============================] - 1s 8ms/step - loss: 0.7186 - acc: 0.7359 - val_loss: 0.6063 - val_acc: 0.7773\n",
            "Epoch 11/30\n",
            "131/131 [==============================] - 1s 8ms/step - loss: 0.6635 - acc: 0.7593 - val_loss: 0.5980 - val_acc: 0.7890\n",
            "Epoch 12/30\n",
            "131/131 [==============================] - 1s 8ms/step - loss: 0.6484 - acc: 0.7629 - val_loss: 0.5497 - val_acc: 0.8098\n",
            "Epoch 13/30\n",
            "131/131 [==============================] - 1s 8ms/step - loss: 0.6066 - acc: 0.7792 - val_loss: 0.5902 - val_acc: 0.7690\n",
            "Epoch 14/30\n",
            "131/131 [==============================] - 1s 8ms/step - loss: 0.6101 - acc: 0.7807 - val_loss: 0.5286 - val_acc: 0.8107\n",
            "Epoch 15/30\n",
            "131/131 [==============================] - 1s 8ms/step - loss: 0.5742 - acc: 0.7881 - val_loss: 0.5118 - val_acc: 0.8157\n",
            "Epoch 16/30\n",
            "131/131 [==============================] - 1s 8ms/step - loss: 0.5503 - acc: 0.8051 - val_loss: 0.5432 - val_acc: 0.8107\n",
            "Epoch 17/30\n",
            "131/131 [==============================] - 1s 8ms/step - loss: 0.5324 - acc: 0.8127 - val_loss: 0.5391 - val_acc: 0.8123\n",
            "Epoch 18/30\n",
            "131/131 [==============================] - 1s 8ms/step - loss: 0.5177 - acc: 0.8082 - val_loss: 0.5007 - val_acc: 0.8274\n",
            "Epoch 19/30\n",
            "131/131 [==============================] - 1s 8ms/step - loss: 0.4980 - acc: 0.8226 - val_loss: 0.4964 - val_acc: 0.8090\n",
            "Epoch 20/30\n",
            "131/131 [==============================] - 1s 8ms/step - loss: 0.4874 - acc: 0.8206 - val_loss: 0.5266 - val_acc: 0.8073\n",
            "Epoch 21/30\n",
            "131/131 [==============================] - 1s 8ms/step - loss: 0.4719 - acc: 0.8336 - val_loss: 0.4820 - val_acc: 0.8374\n",
            "Epoch 22/30\n",
            "131/131 [==============================] - 1s 8ms/step - loss: 0.4177 - acc: 0.8508 - val_loss: 0.5035 - val_acc: 0.8224\n",
            "Epoch 23/30\n",
            "131/131 [==============================] - 1s 8ms/step - loss: 0.4348 - acc: 0.8422 - val_loss: 0.4812 - val_acc: 0.8357\n",
            "Epoch 24/30\n",
            "131/131 [==============================] - 1s 8ms/step - loss: 0.4327 - acc: 0.8388 - val_loss: 0.4408 - val_acc: 0.8440\n",
            "Epoch 25/30\n",
            "131/131 [==============================] - 1s 8ms/step - loss: 0.4257 - acc: 0.8501 - val_loss: 0.4539 - val_acc: 0.8407\n",
            "Epoch 26/30\n",
            "131/131 [==============================] - 1s 8ms/step - loss: 0.3758 - acc: 0.8611 - val_loss: 0.4541 - val_acc: 0.8349\n",
            "Epoch 27/30\n",
            "131/131 [==============================] - 1s 8ms/step - loss: 0.3826 - acc: 0.8633 - val_loss: 0.5013 - val_acc: 0.8190\n",
            "Epoch 28/30\n",
            "131/131 [==============================] - 1s 8ms/step - loss: 0.3771 - acc: 0.8597 - val_loss: 0.4991 - val_acc: 0.8232\n",
            "Epoch 29/30\n",
            "131/131 [==============================] - 1s 8ms/step - loss: 0.3809 - acc: 0.8597 - val_loss: 0.4177 - val_acc: 0.8540\n",
            "Epoch 30/30\n",
            "131/131 [==============================] - 1s 8ms/step - loss: 0.3826 - acc: 0.8621 - val_loss: 0.4211 - val_acc: 0.8474\n"
          ]
        }
      ],
      "source": [
        "history = model.fit(X_train, y_train, epochs=30, validation_data=(X_val, y_val))"
      ]
    },
    {
      "cell_type": "code",
      "execution_count": null,
      "metadata": {
        "id": "3pwelE9VmfeS",
        "colab": {
          "base_uri": "https://localhost:8080/",
          "height": 1000
        },
        "outputId": "c1f1a29d-9d37-4b4d-8fff-bfe9c089372a"
      },
      "outputs": [
        {
          "output_type": "stream",
          "name": "stdout",
          "text": [
            "loss: 0.3825635612010956\n",
            "val_loss: 0.42111775279045105\n"
          ]
        },
        {
          "output_type": "display_data",
          "data": {
            "image/png": "[encoded data removed]",
            "text/plain": [
              "<Figure size 576x576 with 1 Axes>"
            ]
          },
          "metadata": {
            "needs_background": "light"
          }
        },
        {
          "output_type": "stream",
          "name": "stdout",
          "text": [
            "acc: 0.8620689511299133\n",
            "val_acc: 0.847372829914093\n"
          ]
        },
        {
          "output_type": "display_data",
          "data": {
            "image/png": "[encoded data removed]",
            "text/plain": [
              "<Figure size 576x576 with 1 Axes>"
            ]
          },
          "metadata": {
            "needs_background": "light"
          }
        }
      ],
      "source": [
        "plt.figure(figsize=(8,8))\n",
        "plt.title(\"Loss Value\")\n",
        "plt.plot(history.history[\"loss\"])\n",
        "plt.plot(history.history[\"val_loss\"])\n",
        "plt.legend([\"loss\", \"val_loss\"])\n",
        "print(\"loss:\", history.history[\"loss\"][-1])\n",
        "print(\"val_loss:\", history.history[\"val_loss\"][-1])\n",
        "plt.show()\n",
        "plt.figure(figsize=(8,8))\n",
        "plt.title(\"Accuracy\")\n",
        "plt.plot(history.history[\"acc\"])\n",
        "plt.plot(history.history[\"val_acc\"])\n",
        "plt.legend([\"acc\", \"val_acc\"])\n",
        "print(\"acc:\", history.history[\"acc\"][-1])\n",
        "print(\"val_acc:\", history.history[\"val_acc\"][-1])\n",
        "plt.show()"
      ]
    },
    {
      "cell_type": "markdown",
      "metadata": {
        "id": "qd_3TPTJmfeT"
      },
      "source": [
        "## Fase 7: Valutazione della rete neurale\n",
        "Al termine della fase di training si passa alla valutazione dell'efficacia della rete neurale"
      ]
    },
    {
      "cell_type": "code",
      "execution_count": null,
      "metadata": {
        "id": "1hcZP-ZumfeW"
      },
      "outputs": [],
      "source": [
        "predictions = model.predict(X_test)"
      ]
    },
    {
      "cell_type": "code",
      "execution_count": null,
      "metadata": {
        "id": "cVqnTm3VmfeX",
        "colab": {
          "base_uri": "https://localhost:8080/"
        },
        "outputId": "ab286936-0272-4f30-c002-d570962fda77"
      },
      "outputs": [
        {
          "output_type": "stream",
          "name": "stdout",
          "text": [
            "[[5.5706030e-04 9.9931872e-01 4.9212958e-06 1.1780894e-04 1.5147926e-06]\n",
            " [7.9187714e-07 9.9999905e-01 7.1295858e-08 6.2149445e-11 1.1601230e-08]\n",
            " [4.7553036e-02 2.8247045e-02 4.7846137e-05 9.2414355e-01 8.6373711e-06]]\n",
            "[1 1 3]\n"
          ]
        }
      ],
      "source": [
        "print(predictions[:3])\n",
        "predictions = np.argmax(predictions, axis=1)\n",
        "print(predictions[:3])\n",
        "y_test = one_hot_encoder.inverse_transform(y_test)"
      ]
    },
    {
      "cell_type": "code",
      "execution_count": null,
      "metadata": {
        "id": "BiBlh4fTmfeX",
        "colab": {
          "base_uri": "https://localhost:8080/"
        },
        "outputId": "c1f3ac3c-7ead-49a9-e5a0-c64beaa525f8"
      },
      "outputs": [
        {
          "output_type": "stream",
          "name": "stdout",
          "text": [
            "[1 1 3 0 0 2 0 0 4 1]\n",
            "---\n",
            "[[1 1 3 0 0 2 0 0 4 1]]\n"
          ]
        }
      ],
      "source": [
        "print(predictions[:10])\n",
        "print(\"---\")\n",
        "print(y_test[:10].T)"
      ]
    },
    {
      "cell_type": "code",
      "execution_count": null,
      "metadata": {
        "id": "cdm-l5kRmfeX",
        "colab": {
          "base_uri": "https://localhost:8080/",
          "height": 498
        },
        "outputId": "f4268bc8-cf5b-4578-b264-54ea7c9c8274"
      },
      "outputs": [
        {
          "output_type": "display_data",
          "data": {
            "image/png": "[encoded data removed]",
            "text/plain": [
              "<Figure size 576x576 with 1 Axes>"
            ]
          },
          "metadata": {
            "needs_background": "light"
          }
        }
      ],
      "source": [
        "cm = confusion_matrix(y_test, predictions)\n",
        "plt.figure(figsize=(8,8))\n",
        "sns.heatmap(cm, annot=True, xticklabels=label_encoder.classes_, yticklabels=label_encoder.classes_, fmt='d', cmap=plt.cm.Blues, cbar=False)\n",
        "plt.xlabel('Predicted Label')\n",
        "plt.ylabel('True Label')\n",
        "plt.show()"
      ]
    }
  ],
  "metadata": {
    "accelerator": "GPU",
    "colab": {
      "collapsed_sections": [
        "ASrAw78WuKB0",
        "rTydK_SQuKB4",
        "4Xaep8VbuKCF",
        "P5d23tBHuKCM",
        "MoSDf49jmfeQ",
        "LBOkxI3zmfeR",
        "qd_3TPTJmfeT"
      ],
      "name": "progetto_colab.ipynb",
      "provenance": []
    },
    "kernelspec": {
      "display_name": "Python 3 (ipykernel)",
      "language": "python",
      "name": "python3"
    },
    "language_info": {
      "codemirror_mode": {
        "name": "ipython",
        "version": 3
      },
      "file_extension": ".py",
      "mimetype": "text/x-python",
      "name": "python",
      "nbconvert_exporter": "python",
      "pygments_lexer": "ipython3",
      "version": "3.9.7"
    }
  },
  "nbformat": 4,
  "nbformat_minor": 0
}